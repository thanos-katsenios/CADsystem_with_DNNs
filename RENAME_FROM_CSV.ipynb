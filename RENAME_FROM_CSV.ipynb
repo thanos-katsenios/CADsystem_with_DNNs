{
 "cells": [
  {
   "cell_type": "code",
   "execution_count": null,
   "metadata": {},
   "outputs": [],
   "source": [
    "import pandas as pd\n",
    "import os\n",
    "\n",
    "data = pd.read_csv(\"calc_case_description_train_set.csv\")\n",
    "data_copy = data.copy()\n",
    "\n",
    "data_copy.drop(data.columns[[5,7,8,6,11,13,12,10]], inplace = True, axis =1)\n",
    "\n",
    "dict={\n",
    "    \"0\":'UNDEFINED', \n",
    "    \"1\":'FATTY',\n",
    "    \"2\":'SCAT_FBR',\n",
    "    \"3\":'HETERO_DENSE',\n",
    "    \"4\":'EXTR_DENSE'    \n",
    "}\n",
    "\n",
    "base_path=r\"C:/Users/user/MC_CROPPED1/\"    # folder path CHANGE\n",
    "\n",
    "for i in range(data_copy.shape[0]):\n",
    "    \n",
    "    row=data_copy.iloc[i]\n",
    "    \n",
    "    source=\"Calc-Training_\"+row[0]+\"_\"+row[2]+\"_\"+row[3]+\"_\"+str(row[4])    \n",
    "    path=row[0]+\"_\"+row[2]+\"_\"+row[3]+\"_\"+str(row[4])+\"_MC_\"+row[5]+\"_\"+dict[str(row[1])]\n",
    "        \n",
    "    source_path=base_path+source\n",
    "    new_path=base_path+path\n",
    "    \n",
    "    os.rename(source_path,new_path)\n"
   ]
  }
 ],
 "metadata": {
  "kernelspec": {
   "display_name": "Python 3",
   "language": "python",
   "name": "python3"
  },
  "language_info": {
   "codemirror_mode": {
    "name": "ipython",
    "version": 3
   },
   "file_extension": ".py",
   "mimetype": "text/x-python",
   "name": "python",
   "nbconvert_exporter": "python",
   "pygments_lexer": "ipython3",
   "version": "3.7.5"
  }
 },
 "nbformat": 4,
 "nbformat_minor": 2
}
